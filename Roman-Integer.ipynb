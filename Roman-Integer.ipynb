{
 "cells": [
  {
   "cell_type": "code",
   "execution_count": 6,
   "metadata": {},
   "outputs": [],
   "source": [
    "def romantoInt(s):\n",
    "    # Mapping of Roman numerals to integers\n",
    "    roman_map = {'I': 1, 'V': 5, 'X': 10, 'L': 50, 'C': 100, 'D': 500, 'M': 1000}\n",
    "\n",
    "    total = 0\n",
    "    \n",
    "    for i in range(len(s)):\n",
    "        if i+1 < len(s) and roman_map[s[i]] < roman_map[s[i+1]]:\n",
    "            total -= roman_map[s[i]]\n",
    "        else:\n",
    "            total += roman_map[s[i]]\n",
    "    return total"
   ]
  },
  {
   "cell_type": "code",
   "execution_count": 7,
   "metadata": {},
   "outputs": [
    {
     "name": "stdout",
     "output_type": "stream",
     "text": [
      "3\n",
      "4\n",
      "9\n",
      "58\n",
      "1994\n"
     ]
    }
   ],
   "source": [
    "# Examples\n",
    "print(romantoInt(\"III\"))   # Output: 3\n",
    "print(romantoInt(\"IV\"))    # Output: 4\n",
    "print(romantoInt(\"IX\"))    # Output: 9\n",
    "print(romantoInt(\"LVIII\")) # Output: 58\n",
    "print(romantoInt(\"MCMXCIV\")) # Output: 1994"
   ]
  },
  {
   "cell_type": "code",
   "execution_count": null,
   "metadata": {},
   "outputs": [],
   "source": []
  }
 ],
 "metadata": {
  "kernelspec": {
   "display_name": "base",
   "language": "python",
   "name": "python3"
  },
  "language_info": {
   "codemirror_mode": {
    "name": "ipython",
    "version": 3
   },
   "file_extension": ".py",
   "mimetype": "text/x-python",
   "name": "python",
   "nbconvert_exporter": "python",
   "pygments_lexer": "ipython3",
   "version": "3.11.5"
  }
 },
 "nbformat": 4,
 "nbformat_minor": 2
}
